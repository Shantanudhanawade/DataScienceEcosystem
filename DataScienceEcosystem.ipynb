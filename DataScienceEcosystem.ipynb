{
 "cells": [
  {
   "cell_type": "markdown",
   "id": "7890f456-d328-4ff4-9ced-d415a873422d",
   "metadata": {},
   "source": [
    "#Data Science Tools and Ecosystem"
   ]
  },
  {
   "cell_type": "markdown",
   "id": "e3dcaab7-8568-45ec-b3ae-48ec0626ff92",
   "metadata": {},
   "source": [
    "In this NoteBook Data Science Tools and Ecosystem are Summarized"
   ]
  },
  {
   "cell_type": "markdown",
   "id": "47ec57c7-da3f-4d99-bd81-c145dc6daa05",
   "metadata": {},
   "source": [
    "Some of the popular languages that Data Science uses are:\n",
    "1. Python\n",
    "2. R\n",
    "3. Sql\n",
    "4. Javascript"
   ]
  },
  {
   "cell_type": "markdown",
   "id": "4f8a1f1b-9df9-4f26-92cc-752a95e32de2",
   "metadata": {},
   "source": [
    "Some of the commonly used libraries used by Data Scientists include:\n",
    "1. pandas\n",
    "2. Numpy\n",
    "3. Pyplot\n",
    "4. ggplot"
   ]
  },
  {
   "cell_type": "markdown",
   "id": "c2b2f2eb-3a85-4720-8891-3e5be0dd7f5e",
   "metadata": {},
   "source": [
    "|Data Science Tools|\n",
    "|------------------|\n",
    "|**Open Source DS tools**|\n",
    "| Jupyter |\n",
    "| R-Studio |\n",
    "| Spyder |\n",
    "|Apache Zeppelin |"
   ]
  },
  {
   "cell_type": "markdown",
   "id": "3e3944df-3b53-4818-b85c-fe68454cb655",
   "metadata": {},
   "source": [
    "###Below are a few examples of evaluating arithmetic expressions in Python"
   ]
  },
  {
   "cell_type": "code",
   "execution_count": 6,
   "id": "d8b9a29f-f000-44b8-8eb5-c56eb7273b76",
   "metadata": {},
   "outputs": [],
   "source": [
    "#This a simple arithmetic expression to mutiply then add integers"
   ]
  },
  {
   "cell_type": "code",
   "execution_count": 7,
   "id": "7d8c098d-38b2-486d-b957-228d846eef4f",
   "metadata": {},
   "outputs": [
    {
     "data": {
      "text/plain": [
       "17"
      ]
     },
     "execution_count": 7,
     "metadata": {},
     "output_type": "execute_result"
    }
   ],
   "source": [
    "(3*4)+5"
   ]
  },
  {
   "cell_type": "code",
   "execution_count": 8,
   "id": "1590ab7e-e093-409d-852f-f9804f5584ce",
   "metadata": {},
   "outputs": [],
   "source": [
    " #This will convert 200 minutes to hours by diving by 60"
   ]
  },
  {
   "cell_type": "code",
   "execution_count": 9,
   "id": "cf11261d-8306-4bfa-bf56-46071adb5f33",
   "metadata": {},
   "outputs": [],
   "source": [
    "#1 hr = 60 min"
   ]
  },
  {
   "cell_type": "code",
   "execution_count": 10,
   "id": "51be94e2-d548-43d2-a5ad-a702539b62ba",
   "metadata": {},
   "outputs": [
    {
     "data": {
      "text/plain": [
       "3.3333333333333335"
      ]
     },
     "execution_count": 10,
     "metadata": {},
     "output_type": "execute_result"
    }
   ],
   "source": [
    "200/60"
   ]
  },
  {
   "cell_type": "markdown",
   "id": "56a4e4f9-9b87-4072-852e-71cbdf069437",
   "metadata": {},
   "source": [
    "**Objectives:**"
   ]
  },
  {
   "cell_type": "markdown",
   "id": "a3377958-31bc-4f4c-a5ae-36346763601d",
   "metadata": {},
   "source": [
    "- List popular languages for Data Science\n",
    "* List popular libraries for Data Science\n",
    "+ Data Science Tools\n",
    "* Arithmetic Expression Examples"
   ]
  },
  {
   "cell_type": "markdown",
   "id": "55bc4ecc-48fd-4895-90b7-f5629bd465f4",
   "metadata": {},
   "source": [
    "## Author\n",
    "Shantanu Dhanawade"
   ]
  },
  {
   "cell_type": "code",
   "execution_count": null,
   "id": "02f2f493-d2f2-4d0b-904b-386f4c84bcb4",
   "metadata": {},
   "outputs": [],
   "source": []
  }
 ],
 "metadata": {
  "kernelspec": {
   "display_name": "Python [conda env:base] *",
   "language": "python",
   "name": "conda-base-py"
  },
  "language_info": {
   "codemirror_mode": {
    "name": "ipython",
    "version": 3
   },
   "file_extension": ".py",
   "mimetype": "text/x-python",
   "name": "python",
   "nbconvert_exporter": "python",
   "pygments_lexer": "ipython3",
   "version": "3.12.7"
  }
 },
 "nbformat": 4,
 "nbformat_minor": 5
}
